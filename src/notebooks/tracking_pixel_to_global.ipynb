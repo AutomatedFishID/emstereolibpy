{
 "cells": [
  {
   "cell_type": "code",
   "execution_count": 1,
   "metadata": {
    "collapsed": true
   },
   "outputs": [],
   "source": [
    "import os\n",
    "import emstereolibpy as em\n",
    "import pandas as pd\n",
    "import csv\n",
    "from ipywidgets import IntProgress\n",
    "from IPython.display import display\n",
    "import time\n",
    "from emstereolibpy import CameraID"
   ]
  },
  {
   "cell_type": "markdown",
   "source": [
    "Check that we're up and running"
   ],
   "metadata": {
    "collapsed": false,
    "pycharm": {
     "name": "#%% md\n"
    }
   }
  },
  {
   "cell_type": "code",
   "execution_count": 2,
   "outputs": [],
   "source": [
    "CAM_FILES = '/home/marrabld/data/BRII_AIMS_CAL_FILES/AIMS_Cals'"
   ],
   "metadata": {
    "collapsed": false,
    "pycharm": {
     "name": "#%%\n"
    }
   }
  },
  {
   "cell_type": "code",
   "execution_count": 3,
   "outputs": [
    {
     "data": {
      "text/plain": "(1, 0)"
     },
     "execution_count": 3,
     "metadata": {},
     "output_type": "execute_result"
    }
   ],
   "source": [
    "em.version()"
   ],
   "metadata": {
    "collapsed": false,
    "pycharm": {
     "name": "#%%\n"
    }
   }
  },
  {
   "cell_type": "markdown",
   "source": [
    "Pick the file we wish to transform"
   ],
   "metadata": {
    "collapsed": false,
    "pycharm": {
     "name": "#%% md\n"
    }
   }
  },
  {
   "cell_type": "code",
   "execution_count": 17,
   "outputs": [],
   "source": [
    "from tkinter import Tk\n",
    "from tkinter import filedialog\n",
    "\n",
    "Tk().withdraw() # we don't want a full GUI, so keep the root window from appearing\n",
    "filename = filedialog.askopenfilename()"
   ],
   "metadata": {
    "collapsed": false,
    "pycharm": {
     "name": "#%%\n"
    }
   }
  },
  {
   "cell_type": "code",
   "execution_count": 18,
   "outputs": [
    {
     "data": {
      "text/plain": "    FilenameLeft  FilenameRight CamCalFile  \\\n0  A000002_L.avi  A000002_R.avi  6429_RIG6   \n1  A000002_L.avi  A000002_R.avi  6429_RIG6   \n2  A000002_L.avi  A000002_R.avi  6429_RIG6   \n3  A000002_L.avi  A000002_R.avi  6429_RIG6   \n4  A000002_L.avi  A000002_R.avi  6429_RIG6   \n\n                                        Out_FileName  frame_left  id_left  \\\n0  carcharhinidae_carcharhinus_amblyrhynchos-475.avi       73835        1   \n1  carcharhinidae_carcharhinus_amblyrhynchos-475.avi       73835        1   \n2  carcharhinidae_carcharhinus_amblyrhynchos-475.avi       73835        1   \n3  carcharhinidae_carcharhinus_amblyrhynchos-475.avi       73835        1   \n4  carcharhinidae_carcharhinus_amblyrhynchos-475.avi       73835        3   \n\n      color_left                     ltrb_left                     ltwh_left  \\\n0  (0, 255, 117)  (634.0, 665.0, 994.0, 842.0)  (634.0, 665.0, 360.0, 177.0)   \n1  (0, 255, 117)  (634.0, 665.0, 994.0, 842.0)  (634.0, 665.0, 360.0, 177.0)   \n2  (0, 255, 117)  (634.0, 665.0, 994.0, 842.0)  (634.0, 665.0, 360.0, 177.0)   \n3  (0, 255, 117)  (634.0, 665.0, 994.0, 842.0)  (634.0, 665.0, 360.0, 177.0)   \n4  (126, 204, 0)  (513.0, 269.0, 933.0, 448.0)  (513.0, 269.0, 420.0, 179.0)   \n\n      center_left  frame_right  id_right    color_right  \\\n0  (814.0, 753.5)        74155         1  (0, 255, 117)   \n1  (814.0, 753.5)        74155         2  (234, 0, 255)   \n2  (814.0, 753.5)        74155         3  (126, 204, 0)   \n3  (814.0, 753.5)        74155         4   (0, 32, 204)   \n4  (723.0, 358.5)        74155         1  (0, 255, 117)   \n\n                     ltrb_right                    ltwh_right    center_right  \n0  (585.0, 585.0, 991.0, 762.0)  (585.0, 585.0, 406.0, 177.0)  (788.0, 673.5)  \n1  (475.0, 803.0, 763.0, 946.0)  (475.0, 803.0, 288.0, 143.0)  (619.0, 874.5)  \n2  (254.0, 712.0, 598.0, 923.0)  (254.0, 712.0, 344.0, 211.0)  (426.0, 817.5)  \n3  (336.0, 235.0, 734.0, 383.0)  (336.0, 235.0, 398.0, 148.0)  (535.0, 309.0)  \n4  (585.0, 585.0, 991.0, 762.0)  (585.0, 585.0, 406.0, 177.0)  (788.0, 673.5)  ",
      "text/html": "<div>\n<style scoped>\n    .dataframe tbody tr th:only-of-type {\n        vertical-align: middle;\n    }\n\n    .dataframe tbody tr th {\n        vertical-align: top;\n    }\n\n    .dataframe thead th {\n        text-align: right;\n    }\n</style>\n<table border=\"1\" class=\"dataframe\">\n  <thead>\n    <tr style=\"text-align: right;\">\n      <th></th>\n      <th>FilenameLeft</th>\n      <th>FilenameRight</th>\n      <th>CamCalFile</th>\n      <th>Out_FileName</th>\n      <th>frame_left</th>\n      <th>id_left</th>\n      <th>color_left</th>\n      <th>ltrb_left</th>\n      <th>ltwh_left</th>\n      <th>center_left</th>\n      <th>frame_right</th>\n      <th>id_right</th>\n      <th>color_right</th>\n      <th>ltrb_right</th>\n      <th>ltwh_right</th>\n      <th>center_right</th>\n    </tr>\n  </thead>\n  <tbody>\n    <tr>\n      <th>0</th>\n      <td>A000002_L.avi</td>\n      <td>A000002_R.avi</td>\n      <td>6429_RIG6</td>\n      <td>carcharhinidae_carcharhinus_amblyrhynchos-475.avi</td>\n      <td>73835</td>\n      <td>1</td>\n      <td>(0, 255, 117)</td>\n      <td>(634.0, 665.0, 994.0, 842.0)</td>\n      <td>(634.0, 665.0, 360.0, 177.0)</td>\n      <td>(814.0, 753.5)</td>\n      <td>74155</td>\n      <td>1</td>\n      <td>(0, 255, 117)</td>\n      <td>(585.0, 585.0, 991.0, 762.0)</td>\n      <td>(585.0, 585.0, 406.0, 177.0)</td>\n      <td>(788.0, 673.5)</td>\n    </tr>\n    <tr>\n      <th>1</th>\n      <td>A000002_L.avi</td>\n      <td>A000002_R.avi</td>\n      <td>6429_RIG6</td>\n      <td>carcharhinidae_carcharhinus_amblyrhynchos-475.avi</td>\n      <td>73835</td>\n      <td>1</td>\n      <td>(0, 255, 117)</td>\n      <td>(634.0, 665.0, 994.0, 842.0)</td>\n      <td>(634.0, 665.0, 360.0, 177.0)</td>\n      <td>(814.0, 753.5)</td>\n      <td>74155</td>\n      <td>2</td>\n      <td>(234, 0, 255)</td>\n      <td>(475.0, 803.0, 763.0, 946.0)</td>\n      <td>(475.0, 803.0, 288.0, 143.0)</td>\n      <td>(619.0, 874.5)</td>\n    </tr>\n    <tr>\n      <th>2</th>\n      <td>A000002_L.avi</td>\n      <td>A000002_R.avi</td>\n      <td>6429_RIG6</td>\n      <td>carcharhinidae_carcharhinus_amblyrhynchos-475.avi</td>\n      <td>73835</td>\n      <td>1</td>\n      <td>(0, 255, 117)</td>\n      <td>(634.0, 665.0, 994.0, 842.0)</td>\n      <td>(634.0, 665.0, 360.0, 177.0)</td>\n      <td>(814.0, 753.5)</td>\n      <td>74155</td>\n      <td>3</td>\n      <td>(126, 204, 0)</td>\n      <td>(254.0, 712.0, 598.0, 923.0)</td>\n      <td>(254.0, 712.0, 344.0, 211.0)</td>\n      <td>(426.0, 817.5)</td>\n    </tr>\n    <tr>\n      <th>3</th>\n      <td>A000002_L.avi</td>\n      <td>A000002_R.avi</td>\n      <td>6429_RIG6</td>\n      <td>carcharhinidae_carcharhinus_amblyrhynchos-475.avi</td>\n      <td>73835</td>\n      <td>1</td>\n      <td>(0, 255, 117)</td>\n      <td>(634.0, 665.0, 994.0, 842.0)</td>\n      <td>(634.0, 665.0, 360.0, 177.0)</td>\n      <td>(814.0, 753.5)</td>\n      <td>74155</td>\n      <td>4</td>\n      <td>(0, 32, 204)</td>\n      <td>(336.0, 235.0, 734.0, 383.0)</td>\n      <td>(336.0, 235.0, 398.0, 148.0)</td>\n      <td>(535.0, 309.0)</td>\n    </tr>\n    <tr>\n      <th>4</th>\n      <td>A000002_L.avi</td>\n      <td>A000002_R.avi</td>\n      <td>6429_RIG6</td>\n      <td>carcharhinidae_carcharhinus_amblyrhynchos-475.avi</td>\n      <td>73835</td>\n      <td>3</td>\n      <td>(126, 204, 0)</td>\n      <td>(513.0, 269.0, 933.0, 448.0)</td>\n      <td>(513.0, 269.0, 420.0, 179.0)</td>\n      <td>(723.0, 358.5)</td>\n      <td>74155</td>\n      <td>1</td>\n      <td>(0, 255, 117)</td>\n      <td>(585.0, 585.0, 991.0, 762.0)</td>\n      <td>(585.0, 585.0, 406.0, 177.0)</td>\n      <td>(788.0, 673.5)</td>\n    </tr>\n  </tbody>\n</table>\n</div>"
     },
     "execution_count": 18,
     "metadata": {},
     "output_type": "execute_result"
    }
   ],
   "source": [
    "df_track = pd.read_csv(filename)\n",
    "df_track.head()"
   ],
   "metadata": {
    "collapsed": false,
    "pycharm": {
     "name": "#%%\n"
    }
   }
  },
  {
   "cell_type": "raw",
   "source": [
    "\n",
    "load the camera files"
   ],
   "metadata": {
    "collapsed": false,
    "pycharm": {
     "name": "#%% raw\n"
    }
   }
  },
  {
   "cell_type": "code",
   "execution_count": 18,
   "outputs": [],
   "source": [],
   "metadata": {
    "collapsed": false,
    "pycharm": {
     "name": "#%%\n"
    }
   }
  },
  {
   "cell_type": "code",
   "execution_count": 19,
   "outputs": [
    {
     "data": {
      "text/plain": "IntProgress(value=0, max=12108)",
      "application/vnd.jupyter.widget-view+json": {
       "version_major": 2,
       "version_minor": 0,
       "model_id": "9ec4d91b3e46433da29928c40907631c"
      }
     },
     "metadata": {},
     "output_type": "display_data"
    },
    {
     "name": "stdout",
     "output_type": "stream",
     "text": [
      "Processing 12107 of 12108\r"
     ]
    }
   ],
   "source": [
    "glob_tl_coords = []\n",
    "glob_br_coords = []\n",
    "x1 = 0\n",
    "y1 = 1\n",
    "x2 = 2\n",
    "y2 = 3\n",
    "\n",
    "glob_coords_dict = {\n",
    "    'tlrb_xyz': [],\n",
    "    'center_xyz': [],\n",
    "    'tlrb_sd_xyz': [],\n",
    "    'tlrb_rms': [],\n",
    "    'center_sd_xyz': [],\n",
    "    'center_rms': []\n",
    "}\n",
    "\n",
    "max_count = df_track.shape[0]\n",
    "f = IntProgress(min=0, max=max_count) # instantiate the bar\n",
    "display(f) # display the bar\n",
    "\n",
    "for ii, row in df_track.iterrows():\n",
    "    f.value += 1 # <-- update the progress bar\n",
    "\n",
    "    print(f'Processing {ii} of {max_count}', end='\\r', flush=True)\n",
    "\n",
    "    # Each row needs it's own cam file. so we need to load the cam file for every row .. maybe, could optimise this better.\n",
    "    result = em.load_camera_file(CameraID.left, os.path.join(CAM_FILES, df_track['CamCalFile'][ii] + '_L.Cam')) #'data/6429_RIG1_L.Cam'\n",
    "    if result != 0:\n",
    "        print(f\"ERROR :: result = {result} for file {os.path.join(CAM_FILES, df_track['CamCalFile'][ii] + '_L.Cam')}\")\n",
    "        break\n",
    "    result = em.load_camera_file(CameraID.right, os.path.join(CAM_FILES, df_track['CamCalFile'][ii] + '_R.Cam'))\n",
    "    if result != 0:\n",
    "        print(f'ERROR :: result = {result}')\n",
    "        break\n",
    "\n",
    "    # DELETE ME for debuggin cam file\n",
    "    # result = em.load_camera_file(CameraID.left, 'data/6429_RIG1_L.Cam')\n",
    "    # result = em.load_camera_file(CameraID.right, 'data/6429_RIG1_R.Cam')\n",
    "\n",
    "    # <camera>_<pixel>\n",
    "    left_coord = tuple(float(num) for num in df_track.ltrb_left[ii].replace('(', '').replace(')', '').split(', '))  # convert string  '(x1, y1, x2, y2)' to tuple of floats.\n",
    "    right_coord = tuple(float(num) for num in df_track.ltrb_right[ii].replace('(', '').replace(')', '').split(', '))\n",
    "    centre_left_coord = tuple(float(num) for num in df_track.center_left[ii].replace('(', '').replace(')', '').split(', '))\n",
    "    centre_right_coord = tuple(float(num) for num in df_track.center_right[ii].replace('(', '').replace(')', '').split(', '))\n",
    "\n",
    "    pt_left = em.Pt2D(left_coord[x1], left_coord[y1])   #top left of left BB\n",
    "    pt_right = em.Pt2D(right_coord[x1], right_coord[y1]) # top left of right BB\n",
    "\n",
    "    glob_tl_coords, glob_tl_sd, glob_tl_rms = em.intersect(pt_left, pt_right)\n",
    "\n",
    "    pt_left = em.Pt2D(left_coord[x2], left_coord[y2])   #bottom right of left BB\n",
    "    pt_right = em.Pt2D(right_coord[x2], right_coord[y2]) #Bottom right of right BB\n",
    "\n",
    "    glob_br_coords, glob_br_sd, glob_br_rms = em.intersect(pt_left, pt_right)\n",
    "\n",
    "    centre_pt_left = em.Pt2D(centre_left_coord[0], centre_left_coord[1])\n",
    "    centre_pt_right = em.Pt2D(centre_right_coord[0], centre_right_coord[1])\n",
    "    glob_centre_pt, glob_centre_sd, glob_centre_rms = em.intersect(centre_pt_left, centre_pt_right)\n",
    "\n",
    "    glob_coords_dict['tlrb_xyz'].append(glob_tl_coords + glob_br_coords)\n",
    "    glob_coords_dict['tlrb_sd_xyz'].append(glob_tl_sd + glob_br_sd)\n",
    "    glob_coords_dict['tlrb_rms'].append((glob_tl_rms, glob_br_rms))\n",
    "\n",
    "    glob_coords_dict['center_xyz'].append(glob_centre_pt)\n",
    "    glob_coords_dict['center_sd_xyz'].append(glob_tl_sd + glob_br_sd)\n",
    "    glob_coords_dict['center_rms'].append((glob_centre_rms, glob_centre_rms))\n"
   ],
   "metadata": {
    "collapsed": false,
    "pycharm": {
     "name": "#%%\n"
    }
   }
  },
  {
   "cell_type": "code",
   "execution_count": 20,
   "outputs": [],
   "source": [
    "df_track['tlrb_xyz'] = glob_coords_dict['tlrb_xyz']\n",
    "df_track['tlrb_sd_xyz'] = glob_coords_dict['tlrb_sd_xyz']\n",
    "df_track['tlrb_rms'] = glob_coords_dict['tlrb_rms']\n",
    "\n",
    "df_track['center_xyz'] = glob_coords_dict['center_xyz']\n",
    "df_track['center_sd_xyz'] = glob_coords_dict['center_sd_xyz']\n",
    "df_track['center_rms'] = glob_coords_dict['center_rms']"
   ],
   "metadata": {
    "collapsed": false,
    "pycharm": {
     "name": "#%%\n"
    }
   }
  },
  {
   "cell_type": "code",
   "execution_count": 21,
   "outputs": [
    {
     "data": {
      "text/plain": "    FilenameLeft  FilenameRight CamCalFile  \\\n0  A000002_L.avi  A000002_R.avi  6429_RIG6   \n1  A000002_L.avi  A000002_R.avi  6429_RIG6   \n2  A000002_L.avi  A000002_R.avi  6429_RIG6   \n3  A000002_L.avi  A000002_R.avi  6429_RIG6   \n4  A000002_L.avi  A000002_R.avi  6429_RIG6   \n\n                                        Out_FileName  frame_left  id_left  \\\n0  carcharhinidae_carcharhinus_amblyrhynchos-475.avi       73835        1   \n1  carcharhinidae_carcharhinus_amblyrhynchos-475.avi       73835        1   \n2  carcharhinidae_carcharhinus_amblyrhynchos-475.avi       73835        1   \n3  carcharhinidae_carcharhinus_amblyrhynchos-475.avi       73835        1   \n4  carcharhinidae_carcharhinus_amblyrhynchos-475.avi       73835        3   \n\n      color_left                     ltrb_left                     ltwh_left  \\\n0  (0, 255, 117)  (634.0, 665.0, 994.0, 842.0)  (634.0, 665.0, 360.0, 177.0)   \n1  (0, 255, 117)  (634.0, 665.0, 994.0, 842.0)  (634.0, 665.0, 360.0, 177.0)   \n2  (0, 255, 117)  (634.0, 665.0, 994.0, 842.0)  (634.0, 665.0, 360.0, 177.0)   \n3  (0, 255, 117)  (634.0, 665.0, 994.0, 842.0)  (634.0, 665.0, 360.0, 177.0)   \n4  (126, 204, 0)  (513.0, 269.0, 933.0, 448.0)  (513.0, 269.0, 420.0, 179.0)   \n\n      center_left  ...    color_right                    ltrb_right  \\\n0  (814.0, 753.5)  ...  (0, 255, 117)  (585.0, 585.0, 991.0, 762.0)   \n1  (814.0, 753.5)  ...  (234, 0, 255)  (475.0, 803.0, 763.0, 946.0)   \n2  (814.0, 753.5)  ...  (126, 204, 0)  (254.0, 712.0, 598.0, 923.0)   \n3  (814.0, 753.5)  ...   (0, 32, 204)  (336.0, 235.0, 734.0, 383.0)   \n4  (723.0, 358.5)  ...  (0, 255, 117)  (585.0, 585.0, 991.0, 762.0)   \n\n                     ltwh_right    center_right  \\\n0  (585.0, 585.0, 406.0, 177.0)  (788.0, 673.5)   \n1  (475.0, 803.0, 288.0, 143.0)  (619.0, 874.5)   \n2  (254.0, 712.0, 344.0, 211.0)  (426.0, 817.5)   \n3  (336.0, 235.0, 398.0, 148.0)  (535.0, 309.0)   \n4  (585.0, 585.0, 406.0, 177.0)  (788.0, 673.5)   \n\n                                            tlrb_xyz  \\\n0  (-283.04349083013534, -51.61415673742434, -128...   \n1  (-289.17558317787234, -113.08387221489383, -11...   \n2  (-304.02170620769084, -72.7926120735567, -938....   \n3  (-300.81179849441526, 44.64729147847362, -988....   \n4  (-380.7279587506688, 104.7136597662103, -1477....   \n\n                                         tlrb_sd_xyz  \\\n0  (0.5846944144886007, 0.4994951834723585, 1.828...   \n1  (0.5313191333547348, 0.4688346906607986, 1.509...   \n2  (0.43772871004221353, 0.3748838261624354, 1.02...   \n3  (0.4598486129572666, 0.38938403491397106, 1.12...   \n4  (0.7351811000712422, 0.5837740390319948, 2.370...   \n\n                                   tlrb_rms  \\\n0  (5.1834034637281405, 7.6631447760465505)   \n1    (71.00437420165011, 57.03974312694329)   \n2     (37.7484171687221, 48.13767634608556)   \n3  (102.16660714644772, 113.40500692703965)   \n4   (138.8112025386879, 153.33490080459563)   \n\n                                          center_xyz  \\\n0  (-148.37778358408337, -111.37360414751802, -13...   \n1  (-178.37557117093934, -159.25078461176835, -11...   \n2  (-209.19310861070022, -122.17386317579566, -96...   \n3  (-198.96690533938812, 9.265665766686304, -1037...   \n4  (-214.941235707791, 41.21363686870612, -1532.6...   \n\n                                       center_sd_xyz  \\\n0  (0.5846944144886007, 0.4994951834723585, 1.828...   \n1  (0.5313191333547348, 0.4688346906607986, 1.509...   \n2  (0.43772871004221353, 0.3748838261624354, 1.02...   \n3  (0.4598486129572666, 0.38938403491397106, 1.12...   \n4  (0.7351811000712422, 0.5837740390319948, 2.370...   \n\n                                 center_rms  \n0    (4.888560015070182, 4.888560015070182)  \n1    (65.37610726565137, 65.37610726565137)  \n2    (44.35282578147962, 44.35282578147962)  \n3    (107.4102848339837, 107.4102848339837)  \n4  (149.80738331617465, 149.80738331617465)  \n\n[5 rows x 22 columns]",
      "text/html": "<div>\n<style scoped>\n    .dataframe tbody tr th:only-of-type {\n        vertical-align: middle;\n    }\n\n    .dataframe tbody tr th {\n        vertical-align: top;\n    }\n\n    .dataframe thead th {\n        text-align: right;\n    }\n</style>\n<table border=\"1\" class=\"dataframe\">\n  <thead>\n    <tr style=\"text-align: right;\">\n      <th></th>\n      <th>FilenameLeft</th>\n      <th>FilenameRight</th>\n      <th>CamCalFile</th>\n      <th>Out_FileName</th>\n      <th>frame_left</th>\n      <th>id_left</th>\n      <th>color_left</th>\n      <th>ltrb_left</th>\n      <th>ltwh_left</th>\n      <th>center_left</th>\n      <th>...</th>\n      <th>color_right</th>\n      <th>ltrb_right</th>\n      <th>ltwh_right</th>\n      <th>center_right</th>\n      <th>tlrb_xyz</th>\n      <th>tlrb_sd_xyz</th>\n      <th>tlrb_rms</th>\n      <th>center_xyz</th>\n      <th>center_sd_xyz</th>\n      <th>center_rms</th>\n    </tr>\n  </thead>\n  <tbody>\n    <tr>\n      <th>0</th>\n      <td>A000002_L.avi</td>\n      <td>A000002_R.avi</td>\n      <td>6429_RIG6</td>\n      <td>carcharhinidae_carcharhinus_amblyrhynchos-475.avi</td>\n      <td>73835</td>\n      <td>1</td>\n      <td>(0, 255, 117)</td>\n      <td>(634.0, 665.0, 994.0, 842.0)</td>\n      <td>(634.0, 665.0, 360.0, 177.0)</td>\n      <td>(814.0, 753.5)</td>\n      <td>...</td>\n      <td>(0, 255, 117)</td>\n      <td>(585.0, 585.0, 991.0, 762.0)</td>\n      <td>(585.0, 585.0, 406.0, 177.0)</td>\n      <td>(788.0, 673.5)</td>\n      <td>(-283.04349083013534, -51.61415673742434, -128...</td>\n      <td>(0.5846944144886007, 0.4994951834723585, 1.828...</td>\n      <td>(5.1834034637281405, 7.6631447760465505)</td>\n      <td>(-148.37778358408337, -111.37360414751802, -13...</td>\n      <td>(0.5846944144886007, 0.4994951834723585, 1.828...</td>\n      <td>(4.888560015070182, 4.888560015070182)</td>\n    </tr>\n    <tr>\n      <th>1</th>\n      <td>A000002_L.avi</td>\n      <td>A000002_R.avi</td>\n      <td>6429_RIG6</td>\n      <td>carcharhinidae_carcharhinus_amblyrhynchos-475.avi</td>\n      <td>73835</td>\n      <td>1</td>\n      <td>(0, 255, 117)</td>\n      <td>(634.0, 665.0, 994.0, 842.0)</td>\n      <td>(634.0, 665.0, 360.0, 177.0)</td>\n      <td>(814.0, 753.5)</td>\n      <td>...</td>\n      <td>(234, 0, 255)</td>\n      <td>(475.0, 803.0, 763.0, 946.0)</td>\n      <td>(475.0, 803.0, 288.0, 143.0)</td>\n      <td>(619.0, 874.5)</td>\n      <td>(-289.17558317787234, -113.08387221489383, -11...</td>\n      <td>(0.5313191333547348, 0.4688346906607986, 1.509...</td>\n      <td>(71.00437420165011, 57.03974312694329)</td>\n      <td>(-178.37557117093934, -159.25078461176835, -11...</td>\n      <td>(0.5313191333547348, 0.4688346906607986, 1.509...</td>\n      <td>(65.37610726565137, 65.37610726565137)</td>\n    </tr>\n    <tr>\n      <th>2</th>\n      <td>A000002_L.avi</td>\n      <td>A000002_R.avi</td>\n      <td>6429_RIG6</td>\n      <td>carcharhinidae_carcharhinus_amblyrhynchos-475.avi</td>\n      <td>73835</td>\n      <td>1</td>\n      <td>(0, 255, 117)</td>\n      <td>(634.0, 665.0, 994.0, 842.0)</td>\n      <td>(634.0, 665.0, 360.0, 177.0)</td>\n      <td>(814.0, 753.5)</td>\n      <td>...</td>\n      <td>(126, 204, 0)</td>\n      <td>(254.0, 712.0, 598.0, 923.0)</td>\n      <td>(254.0, 712.0, 344.0, 211.0)</td>\n      <td>(426.0, 817.5)</td>\n      <td>(-304.02170620769084, -72.7926120735567, -938....</td>\n      <td>(0.43772871004221353, 0.3748838261624354, 1.02...</td>\n      <td>(37.7484171687221, 48.13767634608556)</td>\n      <td>(-209.19310861070022, -122.17386317579566, -96...</td>\n      <td>(0.43772871004221353, 0.3748838261624354, 1.02...</td>\n      <td>(44.35282578147962, 44.35282578147962)</td>\n    </tr>\n    <tr>\n      <th>3</th>\n      <td>A000002_L.avi</td>\n      <td>A000002_R.avi</td>\n      <td>6429_RIG6</td>\n      <td>carcharhinidae_carcharhinus_amblyrhynchos-475.avi</td>\n      <td>73835</td>\n      <td>1</td>\n      <td>(0, 255, 117)</td>\n      <td>(634.0, 665.0, 994.0, 842.0)</td>\n      <td>(634.0, 665.0, 360.0, 177.0)</td>\n      <td>(814.0, 753.5)</td>\n      <td>...</td>\n      <td>(0, 32, 204)</td>\n      <td>(336.0, 235.0, 734.0, 383.0)</td>\n      <td>(336.0, 235.0, 398.0, 148.0)</td>\n      <td>(535.0, 309.0)</td>\n      <td>(-300.81179849441526, 44.64729147847362, -988....</td>\n      <td>(0.4598486129572666, 0.38938403491397106, 1.12...</td>\n      <td>(102.16660714644772, 113.40500692703965)</td>\n      <td>(-198.96690533938812, 9.265665766686304, -1037...</td>\n      <td>(0.4598486129572666, 0.38938403491397106, 1.12...</td>\n      <td>(107.4102848339837, 107.4102848339837)</td>\n    </tr>\n    <tr>\n      <th>4</th>\n      <td>A000002_L.avi</td>\n      <td>A000002_R.avi</td>\n      <td>6429_RIG6</td>\n      <td>carcharhinidae_carcharhinus_amblyrhynchos-475.avi</td>\n      <td>73835</td>\n      <td>3</td>\n      <td>(126, 204, 0)</td>\n      <td>(513.0, 269.0, 933.0, 448.0)</td>\n      <td>(513.0, 269.0, 420.0, 179.0)</td>\n      <td>(723.0, 358.5)</td>\n      <td>...</td>\n      <td>(0, 255, 117)</td>\n      <td>(585.0, 585.0, 991.0, 762.0)</td>\n      <td>(585.0, 585.0, 406.0, 177.0)</td>\n      <td>(788.0, 673.5)</td>\n      <td>(-380.7279587506688, 104.7136597662103, -1477....</td>\n      <td>(0.7351811000712422, 0.5837740390319948, 2.370...</td>\n      <td>(138.8112025386879, 153.33490080459563)</td>\n      <td>(-214.941235707791, 41.21363686870612, -1532.6...</td>\n      <td>(0.7351811000712422, 0.5837740390319948, 2.370...</td>\n      <td>(149.80738331617465, 149.80738331617465)</td>\n    </tr>\n  </tbody>\n</table>\n<p>5 rows × 22 columns</p>\n</div>"
     },
     "execution_count": 21,
     "metadata": {},
     "output_type": "execute_result"
    }
   ],
   "source": [
    "df_track.head()"
   ],
   "metadata": {
    "collapsed": false,
    "pycharm": {
     "name": "#%%\n"
    }
   }
  },
  {
   "cell_type": "code",
   "execution_count": 22,
   "outputs": [],
   "source": [
    "df_track.to_csv(filename.strip('.csv')+'-global.csv')"
   ],
   "metadata": {
    "collapsed": false,
    "pycharm": {
     "name": "#%%\n"
    }
   }
  },
  {
   "cell_type": "code",
   "execution_count": 19,
   "outputs": [],
   "source": [],
   "metadata": {
    "collapsed": false,
    "pycharm": {
     "name": "#%%\n"
    }
   }
  },
  {
   "cell_type": "code",
   "execution_count": null,
   "outputs": [],
   "source": [],
   "metadata": {
    "collapsed": false,
    "pycharm": {
     "name": "#%%\n",
     "is_executing": true
    }
   }
  },
  {
   "cell_type": "code",
   "execution_count": null,
   "outputs": [],
   "source": [],
   "metadata": {
    "collapsed": false,
    "pycharm": {
     "name": "#%%\n",
     "is_executing": true
    }
   }
  },
  {
   "cell_type": "code",
   "execution_count": null,
   "outputs": [],
   "source": [],
   "metadata": {
    "collapsed": false,
    "pycharm": {
     "name": "#%%\n"
    }
   }
  }
 ],
 "metadata": {
  "kernelspec": {
   "display_name": "Python 3",
   "language": "python",
   "name": "python3"
  },
  "language_info": {
   "codemirror_mode": {
    "name": "ipython",
    "version": 2
   },
   "file_extension": ".py",
   "mimetype": "text/x-python",
   "name": "python",
   "nbconvert_exporter": "python",
   "pygments_lexer": "ipython2",
   "version": "2.7.6"
  }
 },
 "nbformat": 4,
 "nbformat_minor": 0
}