{
 "cells": [
  {
   "cell_type": "code",
   "execution_count": 1,
   "metadata": {
    "collapsed": true
   },
   "outputs": [],
   "source": [
    "import emstereolibpy as em\n",
    "import pandas as pd\n",
    "import csv\n",
    "\n",
    "from emstereolibpy import CameraID"
   ]
  },
  {
   "cell_type": "markdown",
   "source": [
    "Check that we're up and running"
   ],
   "metadata": {
    "collapsed": false,
    "pycharm": {
     "name": "#%% md\n"
    }
   }
  },
  {
   "cell_type": "code",
   "execution_count": 2,
   "outputs": [
    {
     "data": {
      "text/plain": "(1, 0)"
     },
     "execution_count": 2,
     "metadata": {},
     "output_type": "execute_result"
    }
   ],
   "source": [
    "em.version()"
   ],
   "metadata": {
    "collapsed": false,
    "pycharm": {
     "name": "#%%\n"
    }
   }
  },
  {
   "cell_type": "markdown",
   "source": [
    "Pick the file we wish to transform"
   ],
   "metadata": {
    "collapsed": false,
    "pycharm": {
     "name": "#%% md\n"
    }
   }
  },
  {
   "cell_type": "code",
   "execution_count": 3,
   "outputs": [],
   "source": [
    "from tkinter import Tk\n",
    "from tkinter import filedialog\n",
    "\n",
    "Tk().withdraw() # we don't want a full GUI, so keep the root window from appearing\n",
    "filename = filedialog.askopenfilename()"
   ],
   "metadata": {
    "collapsed": false,
    "pycharm": {
     "name": "#%%\n"
    }
   }
  },
  {
   "cell_type": "code",
   "execution_count": 5,
   "outputs": [
    {
     "data": {
      "text/plain": "   frame_left  id_left     color_left                    ltrb_left  \\\n0       73884       10  (255, 152, 0)   (95.0, 98.0, 443.0, 376.0)   \n1       73885       10  (255, 152, 0)   (92.0, 87.0, 461.0, 385.0)   \n2       73886       10  (255, 152, 0)  (128.0, 78.0, 485.0, 369.0)   \n3       73887       10  (255, 152, 0)  (131.0, 83.0, 492.0, 350.0)   \n4       73888       10  (255, 152, 0)  (133.0, 82.0, 501.0, 341.0)   \n\n                     ltwh_left     center_left  frame_right  id_right  \\\n0   (95.0, 98.0, 348.0, 278.0)  (269.0, 237.0)        74204        13   \n1   (92.0, 87.0, 369.0, 298.0)  (276.5, 236.0)        74205        13   \n2  (128.0, 78.0, 357.0, 291.0)  (306.5, 223.5)        74206        13   \n3  (131.0, 83.0, 361.0, 267.0)  (311.5, 216.5)        74207        13   \n4  (133.0, 82.0, 368.0, 259.0)  (317.0, 211.5)        74208        13   \n\n   color_right                    ltrb_right                    ltwh_right  \\\n0  (4, 204, 0)  (254.0, 102.0, 754.0, 344.0)  (254.0, 102.0, 500.0, 242.0)   \n1  (4, 204, 0)  (265.0, 103.0, 768.0, 344.0)  (265.0, 103.0, 503.0, 241.0)   \n2  (4, 204, 0)  (277.0, 101.0, 783.0, 335.0)  (277.0, 101.0, 506.0, 234.0)   \n3  (4, 204, 0)   (295.0, 98.0, 788.0, 335.0)   (295.0, 98.0, 493.0, 237.0)   \n4  (4, 204, 0)  (292.0, 101.0, 795.0, 325.0)  (292.0, 101.0, 503.0, 224.0)   \n\n     center_right   FilenameLeft  FilenameRight CamCalFile  \\\n0  (504.0, 223.0)  A000002_L.avi  A000002_R.avi  6429_RIG6   \n1  (516.5, 223.5)  A000002_L.avi  A000002_R.avi  6429_RIG6   \n2  (530.0, 218.0)  A000002_L.avi  A000002_R.avi  6429_RIG6   \n3  (541.5, 216.5)  A000002_L.avi  A000002_R.avi  6429_RIG6   \n4  (543.5, 213.0)  A000002_L.avi  A000002_R.avi  6429_RIG6   \n\n                                        Out_FileName  \n0  carcharhinidae_carcharhinus_amblyrhynchos-475.avi  \n1  carcharhinidae_carcharhinus_amblyrhynchos-475.avi  \n2  carcharhinidae_carcharhinus_amblyrhynchos-475.avi  \n3  carcharhinidae_carcharhinus_amblyrhynchos-475.avi  \n4  carcharhinidae_carcharhinus_amblyrhynchos-475.avi  ",
      "text/html": "<div>\n<style scoped>\n    .dataframe tbody tr th:only-of-type {\n        vertical-align: middle;\n    }\n\n    .dataframe tbody tr th {\n        vertical-align: top;\n    }\n\n    .dataframe thead th {\n        text-align: right;\n    }\n</style>\n<table border=\"1\" class=\"dataframe\">\n  <thead>\n    <tr style=\"text-align: right;\">\n      <th></th>\n      <th>frame_left</th>\n      <th>id_left</th>\n      <th>color_left</th>\n      <th>ltrb_left</th>\n      <th>ltwh_left</th>\n      <th>center_left</th>\n      <th>frame_right</th>\n      <th>id_right</th>\n      <th>color_right</th>\n      <th>ltrb_right</th>\n      <th>ltwh_right</th>\n      <th>center_right</th>\n      <th>FilenameLeft</th>\n      <th>FilenameRight</th>\n      <th>CamCalFile</th>\n      <th>Out_FileName</th>\n    </tr>\n  </thead>\n  <tbody>\n    <tr>\n      <th>0</th>\n      <td>73884</td>\n      <td>10</td>\n      <td>(255, 152, 0)</td>\n      <td>(95.0, 98.0, 443.0, 376.0)</td>\n      <td>(95.0, 98.0, 348.0, 278.0)</td>\n      <td>(269.0, 237.0)</td>\n      <td>74204</td>\n      <td>13</td>\n      <td>(4, 204, 0)</td>\n      <td>(254.0, 102.0, 754.0, 344.0)</td>\n      <td>(254.0, 102.0, 500.0, 242.0)</td>\n      <td>(504.0, 223.0)</td>\n      <td>A000002_L.avi</td>\n      <td>A000002_R.avi</td>\n      <td>6429_RIG6</td>\n      <td>carcharhinidae_carcharhinus_amblyrhynchos-475.avi</td>\n    </tr>\n    <tr>\n      <th>1</th>\n      <td>73885</td>\n      <td>10</td>\n      <td>(255, 152, 0)</td>\n      <td>(92.0, 87.0, 461.0, 385.0)</td>\n      <td>(92.0, 87.0, 369.0, 298.0)</td>\n      <td>(276.5, 236.0)</td>\n      <td>74205</td>\n      <td>13</td>\n      <td>(4, 204, 0)</td>\n      <td>(265.0, 103.0, 768.0, 344.0)</td>\n      <td>(265.0, 103.0, 503.0, 241.0)</td>\n      <td>(516.5, 223.5)</td>\n      <td>A000002_L.avi</td>\n      <td>A000002_R.avi</td>\n      <td>6429_RIG6</td>\n      <td>carcharhinidae_carcharhinus_amblyrhynchos-475.avi</td>\n    </tr>\n    <tr>\n      <th>2</th>\n      <td>73886</td>\n      <td>10</td>\n      <td>(255, 152, 0)</td>\n      <td>(128.0, 78.0, 485.0, 369.0)</td>\n      <td>(128.0, 78.0, 357.0, 291.0)</td>\n      <td>(306.5, 223.5)</td>\n      <td>74206</td>\n      <td>13</td>\n      <td>(4, 204, 0)</td>\n      <td>(277.0, 101.0, 783.0, 335.0)</td>\n      <td>(277.0, 101.0, 506.0, 234.0)</td>\n      <td>(530.0, 218.0)</td>\n      <td>A000002_L.avi</td>\n      <td>A000002_R.avi</td>\n      <td>6429_RIG6</td>\n      <td>carcharhinidae_carcharhinus_amblyrhynchos-475.avi</td>\n    </tr>\n    <tr>\n      <th>3</th>\n      <td>73887</td>\n      <td>10</td>\n      <td>(255, 152, 0)</td>\n      <td>(131.0, 83.0, 492.0, 350.0)</td>\n      <td>(131.0, 83.0, 361.0, 267.0)</td>\n      <td>(311.5, 216.5)</td>\n      <td>74207</td>\n      <td>13</td>\n      <td>(4, 204, 0)</td>\n      <td>(295.0, 98.0, 788.0, 335.0)</td>\n      <td>(295.0, 98.0, 493.0, 237.0)</td>\n      <td>(541.5, 216.5)</td>\n      <td>A000002_L.avi</td>\n      <td>A000002_R.avi</td>\n      <td>6429_RIG6</td>\n      <td>carcharhinidae_carcharhinus_amblyrhynchos-475.avi</td>\n    </tr>\n    <tr>\n      <th>4</th>\n      <td>73888</td>\n      <td>10</td>\n      <td>(255, 152, 0)</td>\n      <td>(133.0, 82.0, 501.0, 341.0)</td>\n      <td>(133.0, 82.0, 368.0, 259.0)</td>\n      <td>(317.0, 211.5)</td>\n      <td>74208</td>\n      <td>13</td>\n      <td>(4, 204, 0)</td>\n      <td>(292.0, 101.0, 795.0, 325.0)</td>\n      <td>(292.0, 101.0, 503.0, 224.0)</td>\n      <td>(543.5, 213.0)</td>\n      <td>A000002_L.avi</td>\n      <td>A000002_R.avi</td>\n      <td>6429_RIG6</td>\n      <td>carcharhinidae_carcharhinus_amblyrhynchos-475.avi</td>\n    </tr>\n  </tbody>\n</table>\n</div>"
     },
     "execution_count": 5,
     "metadata": {},
     "output_type": "execute_result"
    }
   ],
   "source": [
    "df_track = pd.read_csv(filename)\n",
    "df_track.head()"
   ],
   "metadata": {
    "collapsed": false,
    "pycharm": {
     "name": "#%%\n"
    }
   }
  },
  {
   "cell_type": "raw",
   "source": [
    "\n",
    "load the camera files"
   ],
   "metadata": {
    "collapsed": false,
    "pycharm": {
     "name": "#%% raw\n"
    }
   }
  },
  {
   "cell_type": "code",
   "execution_count": 6,
   "outputs": [
    {
     "data": {
      "text/plain": "0"
     },
     "execution_count": 6,
     "metadata": {},
     "output_type": "execute_result"
    }
   ],
   "source": [
    "em.load_camera_file(CameraID.left, 'data/6429_RIG1_L.Cam')\n",
    "em.load_camera_file(CameraID.right, 'data/6429_RIG1_R.Cam')"
   ],
   "metadata": {
    "collapsed": false,
    "pycharm": {
     "name": "#%%\n"
    }
   }
  },
  {
   "cell_type": "code",
   "execution_count": 31,
   "outputs": [
    {
     "name": "stdout",
     "output_type": "stream",
     "text": [
      "<class 'int'>\n"
     ]
    }
   ],
   "source": [
    "glob_tl_coords = []\n",
    "glob_br_coords = []\n",
    "x1 = 0\n",
    "y1 = 1\n",
    "x2 = 2\n",
    "y2 = 3\n",
    "\n",
    "glob_coords_dict = {\n",
    "    'tlrb_xyz': [],\n",
    "    'center_xyz': [],\n",
    "    'tlrb_sd_xyz': [],\n",
    "    'tlrb_rms': [],\n",
    "    'center_sd_xyz': [],\n",
    "    'center_rms': []\n",
    "}\n",
    "\n",
    "for ii, row in df_track.iterrows():\n",
    "\n",
    "    # <camera>_<pixel>\n",
    "    left_coord = tuple(float(num) for num in df_track.ltrb_left[ii].replace('(', '').replace(')', '').split(', '))  # convert string  '(x1, y1, x2, y2)' to tuple of floats.\n",
    "    right_coord = tuple(float(num) for num in df_track.ltrb_right[ii].replace('(', '').replace(')', '').split(', '))\n",
    "    centre_left_coord = tuple(float(num) for num in df_track.center_left[ii].replace('(', '').replace(')', '').split(', '))\n",
    "    centre_right_coord = tuple(float(num) for num in df_track.center_right[ii].replace('(', '').replace(')', '').split(', '))\n",
    "\n",
    "    pt_left = em.Pt2D(left_coord[x1], left_coord[y1])   #top left of left BB\n",
    "    pt_right = em.Pt2D(right_coord[x1], right_coord[y1]) # top left of right BB\n",
    "\n",
    "    glob_tl_coords, glob_tl_sd, glob_tl_rms = em.intersect(pt_left, pt_right)\n",
    "\n",
    "    pt_left = em.Pt2D(left_coord[x2], left_coord[y2])   #bottom right of left BB\n",
    "    pt_right = em.Pt2D(right_coord[x2], right_coord[y2]) #Bottom right of right BB\n",
    "\n",
    "    glob_br_coords, glob_br_sd, glob_br_rms = em.intersect(pt_left, pt_right)\n",
    "\n",
    "    centre_pt_left = em.Pt2D(centre_left_coord[0], centre_left_coord[1])\n",
    "    centre_pt_right = em.Pt2D(centre_right_coord[0], centre_right_coord[1])\n",
    "    glob_centre_pt, glob_centre_sd, glob_centre_rms = em.intersect(centre_pt_left, centre_pt_right)\n",
    "\n",
    "    glob_coords_dict['tlrb_xyz'].append(glob_tl_coords + glob_br_coords)\n",
    "    glob_coords_dict['tlrb_sd_xyz'].append(glob_tl_sd + glob_br_sd)\n",
    "    glob_coords_dict['tlrb_rms'].append((glob_tl_rms, glob_br_rms))\n",
    "\n",
    "    glob_coords_dict['center_xyz'].append(glob_centre_pt)\n",
    "    glob_coords_dict['center_sd_xyz'].append(glob_tl_sd + glob_br_sd)\n",
    "    glob_coords_dict['center_rms'].append((glob_centre_rms, glob_centre_rms))\n"
   ],
   "metadata": {
    "collapsed": false,
    "pycharm": {
     "name": "#%%\n"
    }
   }
  },
  {
   "cell_type": "code",
   "execution_count": 33,
   "outputs": [],
   "source": [
    "df_track['tlrb_xyz'] = glob_coords_dict['tlrb_xyz']\n",
    "df_track['tlrb_sd_xyz'] = glob_coords_dict['tlrb_sd_xyz']\n",
    "df_track['tlrb_rms'] = glob_coords_dict['tlrb_rms']\n",
    "\n",
    "df_track['center_xyz'] = glob_coords_dict['center_xyz']\n",
    "df_track['center_sd_xyz'] = glob_coords_dict['center_sd_xyz']\n",
    "df_track['center_rms'] = glob_coords_dict['center_rms']"
   ],
   "metadata": {
    "collapsed": false,
    "pycharm": {
     "name": "#%%\n"
    }
   }
  },
  {
   "cell_type": "code",
   "execution_count": 34,
   "outputs": [
    {
     "data": {
      "text/plain": "   frame_left  id_left     color_left                    ltrb_left  \\\n0       73884       10  (255, 152, 0)   (95.0, 98.0, 443.0, 376.0)   \n1       73885       10  (255, 152, 0)   (92.0, 87.0, 461.0, 385.0)   \n2       73886       10  (255, 152, 0)  (128.0, 78.0, 485.0, 369.0)   \n3       73887       10  (255, 152, 0)  (131.0, 83.0, 492.0, 350.0)   \n4       73888       10  (255, 152, 0)  (133.0, 82.0, 501.0, 341.0)   \n\n                     ltwh_left     center_left  frame_right  id_right  \\\n0   (95.0, 98.0, 348.0, 278.0)  (269.0, 237.0)        74204        13   \n1   (92.0, 87.0, 369.0, 298.0)  (276.5, 236.0)        74205        13   \n2  (128.0, 78.0, 357.0, 291.0)  (306.5, 223.5)        74206        13   \n3  (131.0, 83.0, 361.0, 267.0)  (311.5, 216.5)        74207        13   \n4  (133.0, 82.0, 368.0, 259.0)  (317.0, 211.5)        74208        13   \n\n   color_right                    ltrb_right  ...   FilenameLeft  \\\n0  (4, 204, 0)  (254.0, 102.0, 754.0, 344.0)  ...  A000002_L.avi   \n1  (4, 204, 0)  (265.0, 103.0, 768.0, 344.0)  ...  A000002_L.avi   \n2  (4, 204, 0)  (277.0, 101.0, 783.0, 335.0)  ...  A000002_L.avi   \n3  (4, 204, 0)   (295.0, 98.0, 788.0, 335.0)  ...  A000002_L.avi   \n4  (4, 204, 0)  (292.0, 101.0, 795.0, 325.0)  ...  A000002_L.avi   \n\n   FilenameRight CamCalFile  \\\n0  A000002_R.avi  6429_RIG6   \n1  A000002_R.avi  6429_RIG6   \n2  A000002_R.avi  6429_RIG6   \n3  A000002_R.avi  6429_RIG6   \n4  A000002_R.avi  6429_RIG6   \n\n                                        Out_FileName  \\\n0  carcharhinidae_carcharhinus_amblyrhynchos-475.avi   \n1  carcharhinidae_carcharhinus_amblyrhynchos-475.avi   \n2  carcharhinidae_carcharhinus_amblyrhynchos-475.avi   \n3  carcharhinidae_carcharhinus_amblyrhynchos-475.avi   \n4  carcharhinidae_carcharhinus_amblyrhynchos-475.avi   \n\n                                            tlrb_xyz  \\\n0  (-699.9707405795988, 419.67461590045997, -1619...   \n1  (-708.9594468258505, 432.4102255603853, -1650....   \n2  (-674.0552726716334, 428.21614877790165, -1615...   \n3  (-678.9563234773814, 436.7265232997833, -1653....   \n4  (-675.3089044695449, 433.16532344828295, -1642...   \n\n                                          center_xyz  \\\n0  (-610.268790528276, 367.82899795038617, -1944....   \n1  (-606.155247477723, 372.1769556959787, -1966.3...   \n2  (-574.7800817414699, 375.70903976269807, -1934...   \n3  (-572.8099869198903, 384.84526137225816, -1957...   \n4  (-566.8644627484978, 387.804890038285, -1950.3...   \n\n                                         tlrb_sd_xyz  \\\n0  (1.2315116196547633, 0.9609239291922759, 2.900...   \n1  (1.2701737741541732, 0.9969224332071057, 3.009...   \n2  (1.1861800399238756, 0.9662349594555513, 2.875...   \n3  (1.2201342570161149, 0.998474591355122, 3.0024...   \n4  (1.206309365946083, 0.9870193373391696, 2.9639...   \n\n                                   tlrb_rms  \\\n0    (18.041096166506275, 16.9389504141414)   \n1  (13.365973495932383, 22.102126649189486)   \n2  (10.132065274114582, 18.032180330017937)   \n3   (13.421786902343904, 6.738301883143432)   \n4   (11.592542215520115, 7.717495940883574)   \n\n                                       center_sd_xyz  \\\n0  (1.2315116196547633, 0.9609239291922759, 2.900...   \n1  (1.2701737741541732, 0.9969224332071057, 3.009...   \n2  (1.1861800399238756, 0.9662349594555513, 2.875...   \n3  (1.2201342570161149, 0.998474591355122, 3.0024...   \n4  (1.206309365946083, 0.9870193373391696, 2.9639...   \n\n                                 center_rms  \n0  (15.573309260244729, 15.573309260244729)  \n1  (14.776430587291014, 14.776430587291014)  \n2  (11.177607516868068, 11.177607516868068)  \n3    (8.588234129050129, 8.588234129050129)  \n4      (7.98924204575693, 7.98924204575693)  \n\n[5 rows x 22 columns]",
      "text/html": "<div>\n<style scoped>\n    .dataframe tbody tr th:only-of-type {\n        vertical-align: middle;\n    }\n\n    .dataframe tbody tr th {\n        vertical-align: top;\n    }\n\n    .dataframe thead th {\n        text-align: right;\n    }\n</style>\n<table border=\"1\" class=\"dataframe\">\n  <thead>\n    <tr style=\"text-align: right;\">\n      <th></th>\n      <th>frame_left</th>\n      <th>id_left</th>\n      <th>color_left</th>\n      <th>ltrb_left</th>\n      <th>ltwh_left</th>\n      <th>center_left</th>\n      <th>frame_right</th>\n      <th>id_right</th>\n      <th>color_right</th>\n      <th>ltrb_right</th>\n      <th>...</th>\n      <th>FilenameLeft</th>\n      <th>FilenameRight</th>\n      <th>CamCalFile</th>\n      <th>Out_FileName</th>\n      <th>tlrb_xyz</th>\n      <th>center_xyz</th>\n      <th>tlrb_sd_xyz</th>\n      <th>tlrb_rms</th>\n      <th>center_sd_xyz</th>\n      <th>center_rms</th>\n    </tr>\n  </thead>\n  <tbody>\n    <tr>\n      <th>0</th>\n      <td>73884</td>\n      <td>10</td>\n      <td>(255, 152, 0)</td>\n      <td>(95.0, 98.0, 443.0, 376.0)</td>\n      <td>(95.0, 98.0, 348.0, 278.0)</td>\n      <td>(269.0, 237.0)</td>\n      <td>74204</td>\n      <td>13</td>\n      <td>(4, 204, 0)</td>\n      <td>(254.0, 102.0, 754.0, 344.0)</td>\n      <td>...</td>\n      <td>A000002_L.avi</td>\n      <td>A000002_R.avi</td>\n      <td>6429_RIG6</td>\n      <td>carcharhinidae_carcharhinus_amblyrhynchos-475.avi</td>\n      <td>(-699.9707405795988, 419.67461590045997, -1619...</td>\n      <td>(-610.268790528276, 367.82899795038617, -1944....</td>\n      <td>(1.2315116196547633, 0.9609239291922759, 2.900...</td>\n      <td>(18.041096166506275, 16.9389504141414)</td>\n      <td>(1.2315116196547633, 0.9609239291922759, 2.900...</td>\n      <td>(15.573309260244729, 15.573309260244729)</td>\n    </tr>\n    <tr>\n      <th>1</th>\n      <td>73885</td>\n      <td>10</td>\n      <td>(255, 152, 0)</td>\n      <td>(92.0, 87.0, 461.0, 385.0)</td>\n      <td>(92.0, 87.0, 369.0, 298.0)</td>\n      <td>(276.5, 236.0)</td>\n      <td>74205</td>\n      <td>13</td>\n      <td>(4, 204, 0)</td>\n      <td>(265.0, 103.0, 768.0, 344.0)</td>\n      <td>...</td>\n      <td>A000002_L.avi</td>\n      <td>A000002_R.avi</td>\n      <td>6429_RIG6</td>\n      <td>carcharhinidae_carcharhinus_amblyrhynchos-475.avi</td>\n      <td>(-708.9594468258505, 432.4102255603853, -1650....</td>\n      <td>(-606.155247477723, 372.1769556959787, -1966.3...</td>\n      <td>(1.2701737741541732, 0.9969224332071057, 3.009...</td>\n      <td>(13.365973495932383, 22.102126649189486)</td>\n      <td>(1.2701737741541732, 0.9969224332071057, 3.009...</td>\n      <td>(14.776430587291014, 14.776430587291014)</td>\n    </tr>\n    <tr>\n      <th>2</th>\n      <td>73886</td>\n      <td>10</td>\n      <td>(255, 152, 0)</td>\n      <td>(128.0, 78.0, 485.0, 369.0)</td>\n      <td>(128.0, 78.0, 357.0, 291.0)</td>\n      <td>(306.5, 223.5)</td>\n      <td>74206</td>\n      <td>13</td>\n      <td>(4, 204, 0)</td>\n      <td>(277.0, 101.0, 783.0, 335.0)</td>\n      <td>...</td>\n      <td>A000002_L.avi</td>\n      <td>A000002_R.avi</td>\n      <td>6429_RIG6</td>\n      <td>carcharhinidae_carcharhinus_amblyrhynchos-475.avi</td>\n      <td>(-674.0552726716334, 428.21614877790165, -1615...</td>\n      <td>(-574.7800817414699, 375.70903976269807, -1934...</td>\n      <td>(1.1861800399238756, 0.9662349594555513, 2.875...</td>\n      <td>(10.132065274114582, 18.032180330017937)</td>\n      <td>(1.1861800399238756, 0.9662349594555513, 2.875...</td>\n      <td>(11.177607516868068, 11.177607516868068)</td>\n    </tr>\n    <tr>\n      <th>3</th>\n      <td>73887</td>\n      <td>10</td>\n      <td>(255, 152, 0)</td>\n      <td>(131.0, 83.0, 492.0, 350.0)</td>\n      <td>(131.0, 83.0, 361.0, 267.0)</td>\n      <td>(311.5, 216.5)</td>\n      <td>74207</td>\n      <td>13</td>\n      <td>(4, 204, 0)</td>\n      <td>(295.0, 98.0, 788.0, 335.0)</td>\n      <td>...</td>\n      <td>A000002_L.avi</td>\n      <td>A000002_R.avi</td>\n      <td>6429_RIG6</td>\n      <td>carcharhinidae_carcharhinus_amblyrhynchos-475.avi</td>\n      <td>(-678.9563234773814, 436.7265232997833, -1653....</td>\n      <td>(-572.8099869198903, 384.84526137225816, -1957...</td>\n      <td>(1.2201342570161149, 0.998474591355122, 3.0024...</td>\n      <td>(13.421786902343904, 6.738301883143432)</td>\n      <td>(1.2201342570161149, 0.998474591355122, 3.0024...</td>\n      <td>(8.588234129050129, 8.588234129050129)</td>\n    </tr>\n    <tr>\n      <th>4</th>\n      <td>73888</td>\n      <td>10</td>\n      <td>(255, 152, 0)</td>\n      <td>(133.0, 82.0, 501.0, 341.0)</td>\n      <td>(133.0, 82.0, 368.0, 259.0)</td>\n      <td>(317.0, 211.5)</td>\n      <td>74208</td>\n      <td>13</td>\n      <td>(4, 204, 0)</td>\n      <td>(292.0, 101.0, 795.0, 325.0)</td>\n      <td>...</td>\n      <td>A000002_L.avi</td>\n      <td>A000002_R.avi</td>\n      <td>6429_RIG6</td>\n      <td>carcharhinidae_carcharhinus_amblyrhynchos-475.avi</td>\n      <td>(-675.3089044695449, 433.16532344828295, -1642...</td>\n      <td>(-566.8644627484978, 387.804890038285, -1950.3...</td>\n      <td>(1.206309365946083, 0.9870193373391696, 2.9639...</td>\n      <td>(11.592542215520115, 7.717495940883574)</td>\n      <td>(1.206309365946083, 0.9870193373391696, 2.9639...</td>\n      <td>(7.98924204575693, 7.98924204575693)</td>\n    </tr>\n  </tbody>\n</table>\n<p>5 rows × 22 columns</p>\n</div>"
     },
     "execution_count": 34,
     "metadata": {},
     "output_type": "execute_result"
    }
   ],
   "source": [
    "df_track.head()"
   ],
   "metadata": {
    "collapsed": false,
    "pycharm": {
     "name": "#%%\n"
    }
   }
  },
  {
   "cell_type": "code",
   "execution_count": 35,
   "outputs": [],
   "source": [
    "df_track.to_csv(filename.strip('.csv')+'-global.csv')"
   ],
   "metadata": {
    "collapsed": false,
    "pycharm": {
     "name": "#%%\n"
    }
   }
  }
 ],
 "metadata": {
  "kernelspec": {
   "display_name": "Python 3",
   "language": "python",
   "name": "python3"
  },
  "language_info": {
   "codemirror_mode": {
    "name": "ipython",
    "version": 2
   },
   "file_extension": ".py",
   "mimetype": "text/x-python",
   "name": "python",
   "nbconvert_exporter": "python",
   "pygments_lexer": "ipython2",
   "version": "2.7.6"
  }
 },
 "nbformat": 4,
 "nbformat_minor": 0
}